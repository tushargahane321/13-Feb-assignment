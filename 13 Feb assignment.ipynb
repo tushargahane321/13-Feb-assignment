{
 "cells": [
  {
   "cell_type": "code",
   "execution_count": null,
   "id": "88b1819b-6cee-4242-9498-3c2380028001",
   "metadata": {},
   "outputs": [],
   "source": [
    "Q1. Explain why we have to use the Exception class while creating a Custom Exception.\n",
    "Note: Here Exception class refers to the base class for all the exceptions."
   ]
  },
  {
   "cell_type": "markdown",
   "id": "e7dff511-569f-41b7-8174-2f9de43d50db",
   "metadata": {},
   "source": [
    "Answer :In Python, the Exception class is the base class for all built-in exceptions. When we create a custom exception class, we usually inherit from the Exception class to create our own hierarchy of exceptions.\n",
    "\n",
    "By inheriting from the Exception class, we get access to all the behavior and attributes of the base class, including the ability to define custom constructors, methods, and properties. This can be useful when we want to define more specific error conditions and provide more detailed error messages for our custom exceptions.\n",
    "\n",
    "In addition, inheriting from the Exception class ensures that our custom exception is compatible with all the built-in exception handling mechanisms in Python. This means that we can catch our custom exception using the same try-except block as we would use for any other built-in exception.\n",
    "\n",
    "For example, if we define a custom exception class named CustomException that inherits from the Exception class, we can catch it using the following code: In summary, by inheriting from the Exception class, we can create custom exceptions that are compatible with Python's exception handling mechanisms, and that provide specific error conditions and messages for our programs."
   ]
  },
  {
   "cell_type": "code",
   "execution_count": null,
   "id": "eb7e7a85-6e8d-4cf8-a5b1-80976783e92f",
   "metadata": {},
   "outputs": [],
   "source": [
    "try:\n",
    "    # some code that may raise CustumException\n",
    "except CustomException as e:\n",
    "    # handle the exception here"
   ]
  },
  {
   "cell_type": "code",
   "execution_count": null,
   "id": "915667f2-79b2-4b9a-9bb5-21ba2a49e260",
   "metadata": {},
   "outputs": [],
   "source": [
    "Q2. Write a python program to print Python Exception Hierarchy."
   ]
  },
  {
   "cell_type": "markdown",
   "id": "6fef69c1-24f1-41e7-9306-7279123c3fc1",
   "metadata": {},
   "source": [
    "Answer ;In this code, we start with the BaseException class, which is the base class for all exceptions in Python. We print the name of this class using the __name__ attribute.\n",
    "\n",
    "We then define a variable named current_exception and initialize it to the Exception class, which is the base class for all non-system-exiting exceptions. We enter a while loop that continues until the current_exception is equal to the BaseException class.\n",
    "\n",
    "Inside the loop, we print the name of the current_exception class using the __name__ attribute. We then update current_exception to be the base class of the current exception, which is accessed using the __base__ attribute.\n",
    "\n",
    "When the loop completes, we will have printed the hierarchy of all non-system-exiting exceptions in Python, from the Exception class down to the BaseException class."
   ]
  },
  {
   "cell_type": "code",
   "execution_count": 1,
   "id": "55ae5fdf-b8c3-4a74-842f-665ebc586dfa",
   "metadata": {},
   "outputs": [
    {
     "name": "stdout",
     "output_type": "stream",
     "text": [
      "BaseException\n",
      "Exception\n"
     ]
    }
   ],
   "source": [
    "def print_exception_hierarchy():\n",
    "    base_exception = BaseException\n",
    "    print(base_exception.__name__)\n",
    "    current_exception = Exception\n",
    "    while current_exception != base_exception:\n",
    "        print(current_exception.__name__)\n",
    "        current_exception = current_exception.__base__\n",
    "        \n",
    "print_exception_hierarchy()"
   ]
  },
  {
   "cell_type": "code",
   "execution_count": null,
   "id": "22d80e9a-f965-4f6c-8332-983b1100100b",
   "metadata": {},
   "outputs": [],
   "source": [
    "Q3. What errors are defined in the ArithmeticError class? Explain any two with an example."
   ]
  },
  {
   "cell_type": "markdown",
   "id": "22daec44-e8cc-43af-bdab-996d34da280d",
   "metadata": {},
   "source": [
    "ArithmeticError class is a base class for errors that occur during arithmetic operations, such as division by zeroor overflow. Here are two examples of errors that are defined in the ArithmeticError class:\n",
    "\n",
    "a. ZeroDivisionError: This error occurs when we try to divide a number by zero. Here's an example: In this code, we are trying to divide the value of a by the value of b, which is zero This results in a ZeroDivisionError exception being raised. We are catching the exception in the except block and printing the error message.\n",
    "\n",
    "b. OverflowError: This error occurs when we perform an arithmetic operation that results in a value that is too large to be represented by the data type. Here's an example In this code, we are trying to calculate the square of a, which is equal to 10 to the power of 1000. This results in a value that is too large to be represented by the data type, and an OverflowError exception is raised. We are catching the exception in the except block and printing the error message."
   ]
  },
  {
   "cell_type": "code",
   "execution_count": null,
   "id": "4239cf78-fa5b-47d5-9c6e-accb98fc7eff",
   "metadata": {},
   "outputs": [],
   "source": [
    "#ZeroDivision Error\n",
    "a = 7\n",
    "b = 0\n",
    "try:\n",
    "    c = a / b\n",
    "except ZeroDivisionError as e:\n",
    "    print(f\"Error: {e}\")"
   ]
  },
  {
   "cell_type": "code",
   "execution_count": null,
   "id": "3b10f7cb-8807-43b3-89a1-1e3cde37d360",
   "metadata": {},
   "outputs": [],
   "source": [
    "#Overflow Error\n",
    "a = 10**1000\n",
    "try:\n",
    "    b = a * a\n",
    "except OverflowError as e:\n",
    "    print(f\"Error: {e}\")"
   ]
  },
  {
   "cell_type": "code",
   "execution_count": null,
   "id": "9c6fcaed-83a5-4551-8161-40257d8c25b6",
   "metadata": {},
   "outputs": [],
   "source": [
    "Q4. Why LookupError class is used? Explain with an example KeyError and IndexError."
   ]
  },
  {
   "cell_type": "markdown",
   "id": "9d6d3ffd-9a62-4d25-98cf-f4f3adf5b1ce",
   "metadata": {},
   "source": [
    "Answer :The LookupError class is a base class for errors that occur when a key or index is not found in a mapping or sequence. It is a subclass of the Exception class.\n",
    "\n",
    "Two examples of errors that are defined in the LookupError class are KeyError and IndexError. Here's an explanation of each with an example:\n",
    "\n",
    "a. KeyError: This error occurs when we try to access a dictionary key that does not exist.\n",
    "b. IndexError: This error occurs when we try to access a sequence (e.g. a list, tuple, or string) with an index that is out of range"
   ]
  },
  {
   "cell_type": "code",
   "execution_count": 22,
   "id": "38b72d91-4dc6-464b-bb3a-960a20a74d5a",
   "metadata": {},
   "outputs": [
    {
     "name": "stdout",
     "output_type": "stream",
     "text": [
      "KeyError: 'd'\n"
     ]
    }
   ],
   "source": [
    "#Key Error\n",
    "dict = {'a': 10, 'b': 20, 'c': 30}\n",
    "try:\n",
    "    value = dict['d']\n",
    "except KeyError as e:\n",
    "    print(f\"KeyError: {e}\")"
   ]
  },
  {
   "cell_type": "code",
   "execution_count": 25,
   "id": "f406d374-0082-40fe-be54-e142d13ecdbc",
   "metadata": {},
   "outputs": [
    {
     "name": "stdout",
     "output_type": "stream",
     "text": [
      "IndexError: list index out of range\n"
     ]
    }
   ],
   "source": [
    "#Index Error\n",
    "list = [1,2,3,4,5,6,7,8]\n",
    "try:\n",
    "    value = list[10]\n",
    "except IndexError as e:\n",
    "    print(f\"IndexError: {e}\")"
   ]
  },
  {
   "cell_type": "code",
   "execution_count": null,
   "id": "30e45a1d-063e-4cfe-8cf9-ae55fd484fa4",
   "metadata": {},
   "outputs": [],
   "source": [
    "Q5. Explain ImportError. What is ModuleNotFoundError?"
   ]
  },
  {
   "cell_type": "markdown",
   "id": "dd020f9f-5e53-4873-903f-a73c595d3fa6",
   "metadata": {},
   "source": [
    "Answer :ImportError is a Python exception that is raised when a module or package cannot be imported. This error can occur for several reasons, such as a missing dependency or a typo in the module name. The ImportError class is a subclass of the Exception class.\n",
    "\n",
    "ModuleNotFoundError is a subclass of ImportError that was introduced in Python 3.6. It is raised when a module or package cannot be found. This error occurs when Python is unable to locate the module in any of the locations specified in the sys.path variable. Prior to Python 3.6, an ImportError exception would be raised instead of ModuleNotFoundError"
   ]
  },
  {
   "cell_type": "code",
   "execution_count": null,
   "id": "a61905f0-c84f-44f2-af30-2af0e7cb84cb",
   "metadata": {},
   "outputs": [],
   "source": [
    "Q6. List down some best practices for exception handling in python."
   ]
  },
  {
   "cell_type": "markdown",
   "id": "ba5edbbd-bdc5-4b26-976f-5087bdbffe6b",
   "metadata": {},
   "source": [
    "Answer: Here are some best practices for exception handling in Python:\n",
    "\n",
    "1.Catch the right exceptions: When catching exceptions, it's important to be as specific as possible.Catching a broad exception like Exception can make it difficult to debug issues because it could be caused by any number of things. Instead, catch only the exceptions that you expect to occur in your code.\n",
    "\n",
    "2.Use try-except blocks sparingly: While try-except blocks are a powerful tool for handling exceptions, it's important to use them sparingly. In general, you should only use try-except blocks for code that is likely to raise an exception. Code that is not likely to raise an exception should not be included in a try-except block.\n",
    "\n",
    "3.Use finally blocks to clean up resources: If your code uses resources like files or network connections, it's important to release those resources when you're done with them. Use a finally block to ensure that the resources are released, even if an exception occurs.\n",
    "\n",
    "4.Don't ignore exceptions: It's important to handle exceptions in a meaningful way. Ignoring exceptions and simply printing an error message can make it difficult to diagnose issues. Instead, try to handle the exception in a way that allows the program to recover gracefully.\n",
    "\n",
    "5.Use context managers: Context managers (with statements) are a powerful tool for managing resources like files or network connections. They ensure that resources are properly released when you're done with them, even if an exception occurs.\n",
    "\n",
    "6.Log exceptions: Logging exceptions can be a helpful way to debug issues in production environments. Instead of printing error messages to the console, use a logging library like logging to log exceptions to a file or a remote server.\n",
    "\n",
    "7.Be consistent: When handling exceptions, it's important to be consistent in your approach. Use the same exception handling pattern throughout your codebase to make it easier to understand and maintain."
   ]
  }
 ],
 "metadata": {
  "kernelspec": {
   "display_name": "Python 3 (ipykernel)",
   "language": "python",
   "name": "python3"
  },
  "language_info": {
   "codemirror_mode": {
    "name": "ipython",
    "version": 3
   },
   "file_extension": ".py",
   "mimetype": "text/x-python",
   "name": "python",
   "nbconvert_exporter": "python",
   "pygments_lexer": "ipython3",
   "version": "3.10.8"
  }
 },
 "nbformat": 4,
 "nbformat_minor": 5
}
